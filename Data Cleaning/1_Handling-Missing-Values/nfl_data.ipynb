{
 "cells": [
  {
   "cell_type": "code",
   "execution_count": 7,
   "metadata": {},
   "outputs": [],
   "source": [
    "import pandas as pd\n",
    "import numpy as np\n",
    "import seaborn as sns"
   ]
  },
  {
   "cell_type": "code",
   "execution_count": 4,
   "metadata": {},
   "outputs": [
    {
     "name": "stderr",
     "output_type": "stream",
     "text": [
      "c:\\Users\\Home\\anaconda3\\lib\\site-packages\\IPython\\core\\interactiveshell.py:3165: DtypeWarning: Columns (25,51) have mixed types.Specify dtype option on import or set low_memory=False.\n",
      "  has_raised = await self.run_ast_nodes(code_ast.body, cell_name,\n"
     ]
    }
   ],
   "source": [
    "nfl_data = pd.read_csv('../datasets/data.csv')"
   ]
  },
  {
   "cell_type": "code",
   "execution_count": 5,
   "metadata": {},
   "outputs": [
    {
     "data": {
      "text/html": [
       "<div>\n",
       "<style scoped>\n",
       "    .dataframe tbody tr th:only-of-type {\n",
       "        vertical-align: middle;\n",
       "    }\n",
       "\n",
       "    .dataframe tbody tr th {\n",
       "        vertical-align: top;\n",
       "    }\n",
       "\n",
       "    .dataframe thead th {\n",
       "        text-align: right;\n",
       "    }\n",
       "</style>\n",
       "<table border=\"1\" class=\"dataframe\">\n",
       "  <thead>\n",
       "    <tr style=\"text-align: right;\">\n",
       "      <th></th>\n",
       "      <th>Date</th>\n",
       "      <th>GameID</th>\n",
       "      <th>Drive</th>\n",
       "      <th>qtr</th>\n",
       "      <th>down</th>\n",
       "      <th>time</th>\n",
       "      <th>TimeUnder</th>\n",
       "      <th>TimeSecs</th>\n",
       "      <th>PlayTimeDiff</th>\n",
       "      <th>SideofField</th>\n",
       "      <th>...</th>\n",
       "      <th>yacEPA</th>\n",
       "      <th>Home_WP_pre</th>\n",
       "      <th>Away_WP_pre</th>\n",
       "      <th>Home_WP_post</th>\n",
       "      <th>Away_WP_post</th>\n",
       "      <th>Win_Prob</th>\n",
       "      <th>WPA</th>\n",
       "      <th>airWPA</th>\n",
       "      <th>yacWPA</th>\n",
       "      <th>Season</th>\n",
       "    </tr>\n",
       "  </thead>\n",
       "  <tbody>\n",
       "    <tr>\n",
       "      <th>0</th>\n",
       "      <td>2009-09-10</td>\n",
       "      <td>2009091000</td>\n",
       "      <td>1</td>\n",
       "      <td>1</td>\n",
       "      <td>NaN</td>\n",
       "      <td>15:00</td>\n",
       "      <td>15</td>\n",
       "      <td>3600.0</td>\n",
       "      <td>0.0</td>\n",
       "      <td>TEN</td>\n",
       "      <td>...</td>\n",
       "      <td>NaN</td>\n",
       "      <td>0.485675</td>\n",
       "      <td>0.514325</td>\n",
       "      <td>0.546433</td>\n",
       "      <td>0.453567</td>\n",
       "      <td>0.485675</td>\n",
       "      <td>0.060758</td>\n",
       "      <td>NaN</td>\n",
       "      <td>NaN</td>\n",
       "      <td>2009</td>\n",
       "    </tr>\n",
       "    <tr>\n",
       "      <th>1</th>\n",
       "      <td>2009-09-10</td>\n",
       "      <td>2009091000</td>\n",
       "      <td>1</td>\n",
       "      <td>1</td>\n",
       "      <td>1.0</td>\n",
       "      <td>14:53</td>\n",
       "      <td>15</td>\n",
       "      <td>3593.0</td>\n",
       "      <td>7.0</td>\n",
       "      <td>PIT</td>\n",
       "      <td>...</td>\n",
       "      <td>1.146076</td>\n",
       "      <td>0.546433</td>\n",
       "      <td>0.453567</td>\n",
       "      <td>0.551088</td>\n",
       "      <td>0.448912</td>\n",
       "      <td>0.546433</td>\n",
       "      <td>0.004655</td>\n",
       "      <td>-0.032244</td>\n",
       "      <td>0.036899</td>\n",
       "      <td>2009</td>\n",
       "    </tr>\n",
       "    <tr>\n",
       "      <th>2</th>\n",
       "      <td>2009-09-10</td>\n",
       "      <td>2009091000</td>\n",
       "      <td>1</td>\n",
       "      <td>1</td>\n",
       "      <td>2.0</td>\n",
       "      <td>14:16</td>\n",
       "      <td>15</td>\n",
       "      <td>3556.0</td>\n",
       "      <td>37.0</td>\n",
       "      <td>PIT</td>\n",
       "      <td>...</td>\n",
       "      <td>NaN</td>\n",
       "      <td>0.551088</td>\n",
       "      <td>0.448912</td>\n",
       "      <td>0.510793</td>\n",
       "      <td>0.489207</td>\n",
       "      <td>0.551088</td>\n",
       "      <td>-0.040295</td>\n",
       "      <td>NaN</td>\n",
       "      <td>NaN</td>\n",
       "      <td>2009</td>\n",
       "    </tr>\n",
       "    <tr>\n",
       "      <th>3</th>\n",
       "      <td>2009-09-10</td>\n",
       "      <td>2009091000</td>\n",
       "      <td>1</td>\n",
       "      <td>1</td>\n",
       "      <td>3.0</td>\n",
       "      <td>13:35</td>\n",
       "      <td>14</td>\n",
       "      <td>3515.0</td>\n",
       "      <td>41.0</td>\n",
       "      <td>PIT</td>\n",
       "      <td>...</td>\n",
       "      <td>-5.031425</td>\n",
       "      <td>0.510793</td>\n",
       "      <td>0.489207</td>\n",
       "      <td>0.461217</td>\n",
       "      <td>0.538783</td>\n",
       "      <td>0.510793</td>\n",
       "      <td>-0.049576</td>\n",
       "      <td>0.106663</td>\n",
       "      <td>-0.156239</td>\n",
       "      <td>2009</td>\n",
       "    </tr>\n",
       "    <tr>\n",
       "      <th>4</th>\n",
       "      <td>2009-09-10</td>\n",
       "      <td>2009091000</td>\n",
       "      <td>1</td>\n",
       "      <td>1</td>\n",
       "      <td>4.0</td>\n",
       "      <td>13:27</td>\n",
       "      <td>14</td>\n",
       "      <td>3507.0</td>\n",
       "      <td>8.0</td>\n",
       "      <td>PIT</td>\n",
       "      <td>...</td>\n",
       "      <td>NaN</td>\n",
       "      <td>0.461217</td>\n",
       "      <td>0.538783</td>\n",
       "      <td>0.558929</td>\n",
       "      <td>0.441071</td>\n",
       "      <td>0.461217</td>\n",
       "      <td>0.097712</td>\n",
       "      <td>NaN</td>\n",
       "      <td>NaN</td>\n",
       "      <td>2009</td>\n",
       "    </tr>\n",
       "  </tbody>\n",
       "</table>\n",
       "<p>5 rows × 102 columns</p>\n",
       "</div>"
      ],
      "text/plain": [
       "         Date      GameID  Drive  qtr  down   time  TimeUnder  TimeSecs  \\\n",
       "0  2009-09-10  2009091000      1    1   NaN  15:00         15    3600.0   \n",
       "1  2009-09-10  2009091000      1    1   1.0  14:53         15    3593.0   \n",
       "2  2009-09-10  2009091000      1    1   2.0  14:16         15    3556.0   \n",
       "3  2009-09-10  2009091000      1    1   3.0  13:35         14    3515.0   \n",
       "4  2009-09-10  2009091000      1    1   4.0  13:27         14    3507.0   \n",
       "\n",
       "   PlayTimeDiff SideofField  ...    yacEPA  Home_WP_pre  Away_WP_pre  \\\n",
       "0           0.0         TEN  ...       NaN     0.485675     0.514325   \n",
       "1           7.0         PIT  ...  1.146076     0.546433     0.453567   \n",
       "2          37.0         PIT  ...       NaN     0.551088     0.448912   \n",
       "3          41.0         PIT  ... -5.031425     0.510793     0.489207   \n",
       "4           8.0         PIT  ...       NaN     0.461217     0.538783   \n",
       "\n",
       "   Home_WP_post  Away_WP_post  Win_Prob       WPA    airWPA    yacWPA  Season  \n",
       "0      0.546433      0.453567  0.485675  0.060758       NaN       NaN    2009  \n",
       "1      0.551088      0.448912  0.546433  0.004655 -0.032244  0.036899    2009  \n",
       "2      0.510793      0.489207  0.551088 -0.040295       NaN       NaN    2009  \n",
       "3      0.461217      0.538783  0.510793 -0.049576  0.106663 -0.156239    2009  \n",
       "4      0.558929      0.441071  0.461217  0.097712       NaN       NaN    2009  \n",
       "\n",
       "[5 rows x 102 columns]"
      ]
     },
     "execution_count": 5,
     "metadata": {},
     "output_type": "execute_result"
    }
   ],
   "source": [
    "nfl_data.head()"
   ]
  },
  {
   "cell_type": "markdown",
   "metadata": {},
   "source": [
    "<b> Find missing data points<b>"
   ]
  },
  {
   "cell_type": "code",
   "execution_count": 6,
   "metadata": {},
   "outputs": [
    {
     "data": {
      "text/plain": [
       "Date             0\n",
       "GameID           0\n",
       "Drive            0\n",
       "qtr              0\n",
       "down         61154\n",
       "             ...  \n",
       "Win_Prob     25009\n",
       "WPA           5541\n",
       "airWPA      248501\n",
       "yacWPA      248762\n",
       "Season           0\n",
       "Length: 102, dtype: int64"
      ]
     },
     "execution_count": 6,
     "metadata": {},
     "output_type": "execute_result"
    }
   ],
   "source": [
    "nfl_data.isnull().sum()"
   ]
  },
  {
   "cell_type": "markdown",
   "metadata": {},
   "source": [
    "<b>Find features missing values<b>"
   ]
  },
  {
   "cell_type": "code",
   "execution_count": 11,
   "metadata": {},
   "outputs": [
    {
     "data": {
      "text/plain": [
       "['down',\n",
       " 'time',\n",
       " 'TimeSecs',\n",
       " 'PlayTimeDiff',\n",
       " 'SideofField',\n",
       " 'yrdln',\n",
       " 'yrdline100',\n",
       " 'GoalToGo',\n",
       " 'FirstDown',\n",
       " 'posteam',\n",
       " 'DefensiveTeam',\n",
       " 'desc',\n",
       " 'ExPointResult',\n",
       " 'TwoPointConv',\n",
       " 'DefTwoPoint',\n",
       " 'PuntResult',\n",
       " 'Passer',\n",
       " 'PassOutcome',\n",
       " 'PassLength',\n",
       " 'PassLocation',\n",
       " 'Interceptor',\n",
       " 'Rusher',\n",
       " 'RunLocation',\n",
       " 'RunGap',\n",
       " 'Receiver',\n",
       " 'ReturnResult',\n",
       " 'Returner',\n",
       " 'BlockingPlayer',\n",
       " 'Tackler1',\n",
       " 'Tackler2',\n",
       " 'FieldGoalResult',\n",
       " 'FieldGoalDistance',\n",
       " 'RecFumbTeam',\n",
       " 'RecFumbPlayer',\n",
       " 'ChalReplayResult',\n",
       " 'PenalizedTeam',\n",
       " 'PenaltyType',\n",
       " 'PenalizedPlayer',\n",
       " 'PosTeamScore',\n",
       " 'DefTeamScore',\n",
       " 'ScoreDiff',\n",
       " 'AbsScoreDiff',\n",
       " 'No_Score_Prob',\n",
       " 'Opp_Field_Goal_Prob',\n",
       " 'Opp_Safety_Prob',\n",
       " 'Opp_Touchdown_Prob',\n",
       " 'Field_Goal_Prob',\n",
       " 'Safety_Prob',\n",
       " 'Touchdown_Prob',\n",
       " 'ExpPts',\n",
       " 'EPA',\n",
       " 'airEPA',\n",
       " 'yacEPA',\n",
       " 'Home_WP_pre',\n",
       " 'Away_WP_pre',\n",
       " 'Home_WP_post',\n",
       " 'Away_WP_post',\n",
       " 'Win_Prob',\n",
       " 'WPA',\n",
       " 'airWPA',\n",
       " 'yacWPA']"
      ]
     },
     "execution_count": 11,
     "metadata": {},
     "output_type": "execute_result"
    }
   ],
   "source": [
    "features_nan = [feature for feature in nfl_data.columns if nfl_data[feature].isnull().sum() > 1]\n",
    "features_nan"
   ]
  },
  {
   "cell_type": "markdown",
   "metadata": {},
   "source": [
    "<b>Find percentage of missing values<b>"
   ]
  },
  {
   "cell_type": "code",
   "execution_count": 12,
   "metadata": {},
   "outputs": [
    {
     "name": "stdout",
     "output_type": "stream",
     "text": [
      "\n",
      "        down: 0.15% missing values\n",
      "    \n",
      "\n",
      "        time: 0.0005% missing values\n",
      "    \n",
      "\n",
      "        TimeSecs: 0.0005% missing values\n",
      "    \n",
      "\n",
      "        PlayTimeDiff: 0.0011% missing values\n",
      "    \n",
      "\n",
      "        SideofField: 0.0013% missing values\n",
      "    \n",
      "\n",
      "        yrdln: 0.0021% missing values\n",
      "    \n",
      "\n",
      "        yrdline100: 0.0021% missing values\n",
      "    \n",
      "\n",
      "        GoalToGo: 0.0021% missing values\n",
      "    \n",
      "\n",
      "        FirstDown: 0.0707% missing values\n",
      "    \n",
      "\n",
      "        posteam: 0.0613% missing values\n",
      "    \n",
      "\n",
      "        DefensiveTeam: 0.0613% missing values\n",
      "    \n",
      "\n",
      "        desc: 0.0% missing values\n",
      "    \n",
      "\n",
      "        ExPointResult: 0.9752% missing values\n",
      "    \n",
      "\n",
      "        TwoPointConv: 0.9985% missing values\n",
      "    \n",
      "\n",
      "        DefTwoPoint: 0.9999% missing values\n",
      "    \n",
      "\n",
      "        PuntResult: 0.9451% missing values\n",
      "    \n",
      "\n",
      "        Passer: 0.5888% missing values\n",
      "    \n",
      "\n",
      "        PassOutcome: 0.5875% missing values\n",
      "    \n",
      "\n",
      "        PassLength: 0.59% missing values\n",
      "    \n",
      "\n",
      "        PassLocation: 0.59% missing values\n",
      "    \n",
      "\n",
      "        Interceptor: 0.9889% missing values\n",
      "    \n",
      "\n",
      "        Rusher: 0.7043% missing values\n",
      "    \n",
      "\n",
      "        RunLocation: 0.7069% missing values\n",
      "    \n",
      "\n",
      "        RunGap: 0.7856% missing values\n",
      "    \n",
      "\n",
      "        Receiver: 0.6037% missing values\n",
      "    \n",
      "\n",
      "        ReturnResult: 0.9553% missing values\n",
      "    \n",
      "\n",
      "        Returner: 0.9379% missing values\n",
      "    \n",
      "\n",
      "        BlockingPlayer: 0.9997% missing values\n",
      "    \n",
      "\n",
      "        Tackler1: 0.4075% missing values\n",
      "    \n",
      "\n",
      "        Tackler2: 0.878% missing values\n",
      "    \n",
      "\n",
      "        FieldGoalResult: 0.9778% missing values\n",
      "    \n",
      "\n",
      "        FieldGoalDistance: 0.9781% missing values\n",
      "    \n",
      "\n",
      "        RecFumbTeam: 0.9893% missing values\n",
      "    \n",
      "\n",
      "        RecFumbPlayer: 0.9893% missing values\n",
      "    \n",
      "\n",
      "        ChalReplayResult: 0.9917% missing values\n",
      "    \n",
      "\n",
      "        PenalizedTeam: 0.9276% missing values\n",
      "    \n",
      "\n",
      "        PenaltyType: 0.9597% missing values\n",
      "    \n",
      "\n",
      "        PenalizedPlayer: 0.9306% missing values\n",
      "    \n",
      "\n",
      "        PosTeamScore: 0.066% missing values\n",
      "    \n",
      "\n",
      "        DefTeamScore: 0.066% missing values\n",
      "    \n",
      "\n",
      "        ScoreDiff: 0.0613% missing values\n",
      "    \n",
      "\n",
      "        AbsScoreDiff: 0.066% missing values\n",
      "    \n",
      "\n",
      "        No_Score_Prob: 0.0004% missing values\n",
      "    \n",
      "\n",
      "        Opp_Field_Goal_Prob: 0.0004% missing values\n",
      "    \n",
      "\n",
      "        Opp_Safety_Prob: 0.0004% missing values\n",
      "    \n",
      "\n",
      "        Opp_Touchdown_Prob: 0.0004% missing values\n",
      "    \n",
      "\n",
      "        Field_Goal_Prob: 0.0004% missing values\n",
      "    \n",
      "\n",
      "        Safety_Prob: 0.0004% missing values\n",
      "    \n",
      "\n",
      "        Touchdown_Prob: 0.0004% missing values\n",
      "    \n",
      "\n",
      "        ExpPts: 0.0004% missing values\n",
      "    \n",
      "\n",
      "        EPA: 0.0009% missing values\n",
      "    \n",
      "\n",
      "        airEPA: 0.6093% missing values\n",
      "    \n",
      "\n",
      "        yacEPA: 0.6095% missing values\n",
      "    \n",
      "\n",
      "        Home_WP_pre: 0.0612% missing values\n",
      "    \n",
      "\n",
      "        Away_WP_pre: 0.0612% missing values\n",
      "    \n",
      "\n",
      "        Home_WP_post: 0.0652% missing values\n",
      "    \n",
      "\n",
      "        Away_WP_post: 0.0652% missing values\n",
      "    \n",
      "\n",
      "        Win_Prob: 0.0613% missing values\n",
      "    \n",
      "\n",
      "        WPA: 0.0136% missing values\n",
      "    \n",
      "\n",
      "        airWPA: 0.6095% missing values\n",
      "    \n",
      "\n",
      "        yacWPA: 0.6102% missing values\n",
      "    \n"
     ]
    }
   ],
   "source": [
    "for feature in features_nan:\n",
    "    print(f'''\n",
    "        {feature}: {np.round(nfl_data[feature].isnull().mean(), \n",
    "                    decimals=4)}% missing values\n",
    "    ''')"
   ]
  },
  {
   "cell_type": "markdown",
   "metadata": {},
   "source": [
    "<b>Total % of missing values</b>"
   ]
  },
  {
   "cell_type": "code",
   "execution_count": 22,
   "metadata": {},
   "outputs": [],
   "source": [
    "missing_values_count = nfl_data.isnull().sum()"
   ]
  },
  {
   "cell_type": "code",
   "execution_count": 23,
   "metadata": {},
   "outputs": [
    {
     "data": {
      "text/plain": [
       "41584176"
      ]
     },
     "execution_count": 23,
     "metadata": {},
     "output_type": "execute_result"
    }
   ],
   "source": [
    "total_cells =  np.product(nfl_data.shape)\n",
    "total_cells"
   ]
  },
  {
   "cell_type": "code",
   "execution_count": 24,
   "metadata": {},
   "outputs": [
    {
     "data": {
      "text/plain": [
       "10342875"
      ]
     },
     "execution_count": 24,
     "metadata": {},
     "output_type": "execute_result"
    }
   ],
   "source": [
    "total_missing = missing_values_count.sum()\n",
    "total_missing"
   ]
  },
  {
   "cell_type": "code",
   "execution_count": 25,
   "metadata": {},
   "outputs": [
    {
     "name": "stdout",
     "output_type": "stream",
     "text": [
      "24.87214126835169\n"
     ]
    }
   ],
   "source": [
    "percentage_missing = (total_missing/total_cells) * 100\n",
    "print(percentage_missing)"
   ]
  },
  {
   "cell_type": "markdown",
   "metadata": {},
   "source": [
    "**Inference:**\n",
    "\n",
    "Almost a quarter of the cells in this dataset are empty."
   ]
  },
  {
   "cell_type": "markdown",
   "metadata": {},
   "source": [
    "### Filling in missing values automatically"
   ]
  },
  {
   "cell_type": "code",
   "execution_count": null,
   "metadata": {},
   "outputs": [],
   "source": []
  }
 ],
 "metadata": {
  "kernelspec": {
   "display_name": "Python 3.8.8 ('base')",
   "language": "python",
   "name": "python3"
  },
  "language_info": {
   "codemirror_mode": {
    "name": "ipython",
    "version": 3
   },
   "file_extension": ".py",
   "mimetype": "text/x-python",
   "name": "python",
   "nbconvert_exporter": "python",
   "pygments_lexer": "ipython3",
   "version": "3.8.8"
  },
  "orig_nbformat": 4,
  "vscode": {
   "interpreter": {
    "hash": "950b5653ccfc34417735dd321d006fd482b31f7611416c3d8236dc5b17587d3f"
   }
  }
 },
 "nbformat": 4,
 "nbformat_minor": 2
}
